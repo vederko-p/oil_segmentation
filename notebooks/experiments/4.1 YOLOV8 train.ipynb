{
 "cells": [
  {
   "cell_type": "markdown",
   "id": "kIsca3wYSl-m",
   "metadata": {
    "id": "kIsca3wYSl-m"
   },
   "source": [
    "Подготовка среды (выполнялось в google colab)"
   ]
  },
  {
   "cell_type": "code",
   "execution_count": null,
   "id": "SqoTTwUUOxXx",
   "metadata": {
    "id": "SqoTTwUUOxXx"
   },
   "outputs": [],
   "source": [
    "!pip install ultralytics==8.0.28 roboflow clearml"
   ]
  },
  {
   "cell_type": "code",
   "execution_count": null,
   "id": "oXqFZtZTPyha",
   "metadata": {
    "colab": {
     "base_uri": "https://localhost:8080/"
    },
    "id": "oXqFZtZTPyha",
    "outputId": "5ff6964c-0208-4fca-ec3e-794898849f3d"
   },
   "outputs": [],
   "source": [
    "%env CLEARML_WEB_HOST=https://app.clear.ml\n",
    "%env CLEARML_API_HOST=https://api.clear.ml\n",
    "%env CLEARML_FILES_HOST=https://files.clear.ml\n",
    "%env CLEARML_API_ACCESS_KEY=4BT3HOPTLAXJUG5WFQFB\n",
    "%env CLEARML_API_SECRET_KEY=s6QmiXOarwm6fIaA2HlMn0HqHZaqRou0RBlGGRrBWUMVcZlg6D"
   ]
  },
  {
   "cell_type": "code",
   "execution_count": null,
   "id": "5afce66c",
   "metadata": {
    "id": "5afce66c"
   },
   "outputs": [],
   "source": [
    "import locale\n",
    "import glob\n",
    "\n",
    "from ultralytics import YOLO\n",
    "from roboflow import Roboflow\n",
    "from IPython.display import Image, display"
   ]
  },
  {
   "cell_type": "code",
   "execution_count": null,
   "id": "Qgy5eSla8Dpi",
   "metadata": {
    "colab": {
     "base_uri": "https://localhost:8080/"
    },
    "id": "Qgy5eSla8Dpi",
    "outputId": "9845630d-eabe-46a7-a043-5ea67e9b5cf7"
   },
   "outputs": [],
   "source": [
    "#данный код необходимо выполнить для корректной работы colab как командной строки\n",
    "print(locale.getpreferredencoding())\n",
    "\n",
    "def getpreferredencoding(do_setlocale = True):\n",
    "    return \"UTF-8\"\n",
    "locale.getpreferredencoding = getpreferredencoding\n",
    "\n",
    "print(locale.getpreferredencoding())"
   ]
  },
  {
   "cell_type": "markdown",
   "id": "hS3mC5UW7zJ2",
   "metadata": {
    "id": "hS3mC5UW7zJ2"
   },
   "source": [
    "Загрузка набора данных"
   ]
  },
  {
   "cell_type": "code",
   "execution_count": null,
   "id": "6bb5eaa1",
   "metadata": {
    "colab": {
     "base_uri": "https://localhost:8080/"
    },
    "id": "6bb5eaa1",
    "outputId": "03f1dc7c-add6-4897-f6d6-1593cf34f8d5"
   },
   "outputs": [],
   "source": [
    "rf = Roboflow(api_key=\"VEwiu7CVskOWGtETkQHe\")\n",
    "project = rf.workspace(\"nikita-sidelnikov\").project(\"oil-0ayo3\")\n",
    "dataset = project.version(3).download(\"yolov8\")"
   ]
  },
  {
   "cell_type": "code",
   "execution_count": null,
   "id": "mHkLkzNg0rwe",
   "metadata": {
    "colab": {
     "base_uri": "https://localhost:8080/"
    },
    "id": "mHkLkzNg0rwe",
    "outputId": "f0819080-1c73-4e15-e54f-c2981ac4d4ec"
   },
   "outputs": [],
   "source": [
    "!cp -r \"./oil-4\" \"./datasets\""
   ]
  },
  {
   "cell_type": "code",
   "execution_count": null,
   "id": "37bi7AA9SCS3",
   "metadata": {
    "colab": {
     "base_uri": "https://localhost:8080/",
     "height": 235
    },
    "id": "37bi7AA9SCS3",
    "outputId": "0c2b8655-dfa8-44a1-aab2-89e6db3756bc"
   },
   "outputs": [],
   "source": [
    "model = YOLO('yolov8s-seg.pt')\n",
    "\n",
    "model.train(\n",
    "    data = '/content/datasets/oil-3/data.yaml',\n",
    "    epochs = 30,\n",
    "    imgsz = 640,\n",
    "    optimizer = 'Adam',\n",
    "    seed = 0,\n",
    "    lr0 = 0.001\n",
    ")"
   ]
  }
 ],
 "metadata": {
  "accelerator": "GPU",
  "colab": {
   "provenance": []
  },
  "gpuClass": "standard",
  "kernelspec": {
   "display_name": "Python 3 (ipykernel)",
   "language": "python",
   "name": "python3"
  },
  "language_info": {
   "codemirror_mode": {
    "name": "ipython",
    "version": 3
   },
   "file_extension": ".py",
   "mimetype": "text/x-python",
   "name": "python",
   "nbconvert_exporter": "python",
   "pygments_lexer": "ipython3",
   "version": "3.9.13"
  }
 },
 "nbformat": 4,
 "nbformat_minor": 5
}
